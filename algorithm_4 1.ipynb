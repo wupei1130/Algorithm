{
  "nbformat": 4,
  "nbformat_minor": 0,
  "metadata": {
    "colab": {
      "provenance": []
    },
    "kernelspec": {
      "name": "python3",
      "display_name": "Python 3"
    },
    "language_info": {
      "name": "python"
    }
  },
  "cells": [
    {
      "cell_type": "markdown",
      "source": [
        "Solving the Problem Recursively"
      ],
      "metadata": {
        "id": "M22DV5lhiHKI"
      }
    },
    {
      "cell_type": "code",
      "execution_count": 28,
      "metadata": {
        "colab": {
          "base_uri": "https://localhost:8080/"
        },
        "id": "PJQj79kwh8cV",
        "outputId": "ee365a03-10a6-4ddb-bd64-09069200bfd1"
      },
      "outputs": [
        {
          "output_type": "stream",
          "name": "stdout",
          "text": [
            "55 Elapsed time: 9.775161743164062e-06 seconds\n",
            "6765 Elapsed time: 1.6927719116210938e-05 seconds\n",
            "832040 Elapsed time: 1.33514404296875e-05 seconds\n",
            "102334155 Elapsed time: 1.4066696166992188e-05 seconds\n",
            "12586269025 Elapsed time: 2.8848648071289062e-05 seconds\n",
            "1548008755920 Elapsed time: 2.1457672119140625e-05 seconds\n",
            "190392490709135 Elapsed time: 2.2649765014648438e-05 seconds\n",
            "23416728348467685 Elapsed time: 2.7418136596679688e-05 seconds\n",
            "2880067194370816120 Elapsed time: 3.0279159545898438e-05 seconds\n",
            "354224848179261915075 Elapsed time: 3.0994415283203125e-05 seconds\n"
          ]
        }
      ],
      "source": [
        "import time\n",
        " \n",
        "def fib_rec(f1, f2, n):\n",
        "    if n == 0:\n",
        "        return f1\n",
        "    else:\n",
        "        return fib_rec(f2, f1 + f2, n - 1)\n",
        " \n",
        "def fib_v2(num):\n",
        "    return fib_rec(0, 1, num)\n",
        "n = 10\n",
        "while n !=110:\n",
        "  t1 = time.time()\n",
        "  fib_v2(n)\n",
        "  t2 = time.time()\n",
        "  print(fib_v2(n),'Elapsed time: {} seconds'.format((t2 - t1)))\n",
        "  n = n+10"
      ]
    },
    {
      "cell_type": "markdown",
      "source": [
        "Solving the Problem with dynamic programing"
      ],
      "metadata": {
        "id": "Dl3HtQpY-yBg"
      }
    },
    {
      "cell_type": "code",
      "source": [
        "import time\n",
        "\n",
        "calculations = [0, 1] #stores previously calculated solutions\n",
        "\n",
        "def main(nArr):\n",
        "    # simpOut = [] #simple solutions\n",
        "    dynOut = [] #dynamic solutions\n",
        "\n",
        "    start = time.time()\n",
        "    for val in nArr:\n",
        "        dynOut.append(fibDyn(val))\n",
        "    end = time.time()\n",
        "    print(\"dynamic:\")\n",
        "    print(dynOut)\n",
        "    print(end - start)\n",
        "\n",
        "    print(\"\")\n",
        "\n",
        "#dynamic solution\n",
        "def fibDyn(n):\n",
        "    #base case: checks if solution has already been calculated\n",
        "    if n < len(calculations):\n",
        "        return calculations[n]\n",
        "    #recursion\n",
        "    currentSol = fibDyn(n-2) + fibDyn(n-1)\n",
        "    calculations.append(currentSol)\n",
        "    return currentSol"
      ],
      "metadata": {
        "id": "_9LLp7hI32tP"
      },
      "execution_count": 59,
      "outputs": []
    },
    {
      "cell_type": "code",
      "source": [
        "n = 10\n",
        "while n !=110:\n",
        "  main([n])\n",
        "  n = n+10"
      ],
      "metadata": {
        "colab": {
          "base_uri": "https://localhost:8080/"
        },
        "id": "4ELDQHM34TMB",
        "outputId": "520c3f1d-f612-46cc-fef4-bc683c7fd945"
      },
      "execution_count": 60,
      "outputs": [
        {
          "output_type": "stream",
          "name": "stdout",
          "text": [
            "dynamic:\n",
            "[55]\n",
            "2.6941299438476562e-05\n",
            "\n",
            "dynamic:\n",
            "[6765]\n",
            "1.52587890625e-05\n",
            "\n",
            "dynamic:\n",
            "[832040]\n",
            "1.4066696166992188e-05\n",
            "\n",
            "dynamic:\n",
            "[102334155]\n",
            "1.3828277587890625e-05\n",
            "\n",
            "dynamic:\n",
            "[12586269025]\n",
            "1.1920928955078125e-05\n",
            "\n",
            "dynamic:\n",
            "[1548008755920]\n",
            "1.2159347534179688e-05\n",
            "\n",
            "dynamic:\n",
            "[190392490709135]\n",
            "1.1444091796875e-05\n",
            "\n",
            "dynamic:\n",
            "[23416728348467685]\n",
            "1.2636184692382812e-05\n",
            "\n",
            "dynamic:\n",
            "[2880067194370816120]\n",
            "1.0728836059570312e-05\n",
            "\n",
            "dynamic:\n",
            "[354224848179261915075]\n",
            "1.1920928955078125e-05\n",
            "\n"
          ]
        }
      ]
    },
    {
      "cell_type": "code",
      "source": [
        "import matplotlib.pyplot as plt\n",
        "plt.xlabel('n', fontsize=\"10\")\n",
        "plt.ylabel('execution time', fontsize=\"10\")\n",
        "x = [[10,20,30,40,50,60,70,80,90,100], [10,20,30,40,50,60,70,80,90,100]] # 要連線的兩個點的座標\n",
        "y = [[9.775161743164062e-06,1.6927719116210938e-05,1.33514404296875e-05,1.4066696166992188e-05,2.8848648071289062e-05,2.1457672119140625e-05,2.2649765014648438e-05,2.7418136596679688e-05,3.0279159545898438e-05,3.0994415283203125e-05], [1.3828277587890625e-05,1.3589859008789062e-05,9.775161743164062e-06,1.0013580322265625e-05,9.059906005859375e-06,1.0013580322265625e-05,9.059906005859375e-06,1.0013580322265625e-05,8.344650268554688e-06,9.298324584960938e-06]]\n",
        "for i in range(len(x)):\n",
        " plt.plot(x[0] ,y[0],color='b')\n",
        " plt.scatter(x[0], y[0], color='b')\n",
        " plt.plot(x[1] ,y[1],color='r')\n",
        " plt.scatter(x[1], y[1], color='r')"
      ],
      "metadata": {
        "colab": {
          "base_uri": "https://localhost:8080/",
          "height": 286
        },
        "id": "UFtlSB2I43wT",
        "outputId": "f5940d78-1b2a-4d40-9c68-38a897b42f4e"
      },
      "execution_count": 61,
      "outputs": [
        {
          "output_type": "display_data",
          "data": {
            "text/plain": [
              "<Figure size 200x200 with 1 Axes>"
            ],
            "image/png": "[encoded data removed]"
          },
          "metadata": {}
        }
      ]
    }
  ]
}