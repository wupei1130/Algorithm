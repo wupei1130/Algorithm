{
  "nbformat": 4,
  "nbformat_minor": 0,
  "metadata": {
    "colab": {
      "provenance": [],
      "authorship_tag": "ABX9TyMPw/M4P5K2Px4zUWmx7g6x",
      "include_colab_link": true
    },
    "kernelspec": {
      "name": "python3",
      "display_name": "Python 3"
    },
    "language_info": {
      "name": "python"
    }
  },
  "cells": [
    {
      "cell_type": "markdown",
      "metadata": {
        "id": "view-in-github",
        "colab_type": "text"
      },
      "source": [
        "<a href=\"https://colab.research.google.com/github/wupei1130/Algorithm/blob/main/algorithm_5.ipynb\" target=\"_parent\"><img src=\"https://colab.research.google.com/assets/colab-badge.svg\" alt=\"Open In Colab\"/></a>"
      ]
    },
    {
      "cell_type": "markdown",
      "source": [
        " Brute-Force Algorithm"
      ],
      "metadata": {
        "id": "BydDLfzok166"
      }
    },
    {
      "cell_type": "code",
      "source": [
        "import random \n",
        "i = int(input('enter a number: '))\n",
        "arr = []\n",
        "for j in range(i):\n",
        "  arr.append(random.randint(1,100))\n",
        "n = len(arr)\n",
        "print(arr)\n",
        "print(n)"
      ],
      "metadata": {
        "colab": {
          "base_uri": "https://localhost:8080/"
        },
        "id": "qSE18t-2lOAx",
        "outputId": "dc182457-2a90-4664-abc6-d151c61268a2"
      },
      "execution_count": 48,
      "outputs": [
        {
          "output_type": "stream",
          "name": "stdout",
          "text": [
            "enter a number: 5\n",
            "[8, 27, 7, 86, 4]\n",
            "5\n"
          ]
        }
      ]
    },
    {
      "cell_type": "code",
      "execution_count": 49,
      "metadata": {
        "colab": {
          "base_uri": "https://localhost:8080/"
        },
        "id": "UfRe8USCkvHW",
        "outputId": "23b9faa3-7448-425d-bfb6-90e954195c3b"
      },
      "outputs": [
        {
          "output_type": "stream",
          "name": "stdout",
          "text": [
            "Minimum number of multiplications is  4028\n",
            "Elapsed time: 0.0023758411407470703 seconds\n"
          ]
        }
      ],
      "source": [
        "import sys\n",
        "import time \n",
        "# Matrix A[i] has dimension p[i-1] x p[i]\n",
        "# for i = 1..n\n",
        "def MatrixChainOrder(p, i, j):\n",
        "  if i == j:\n",
        "    return 0\n",
        "  min = sys.maxsize\n",
        "  for k in range(i, j):\n",
        "    count = (MatrixChainOrder(p, i, k)+ MatrixChainOrder(p, k + 1, j)+ p[i-1] * p[k] * p[j])\n",
        "    if count < min:\n",
        "      min = count;\n",
        "  return min\n",
        "t1 = time.time()\n",
        "print(\"Minimum number of multiplications is \", MatrixChainOrder(arr, 1, n-1))\n",
        "t2 = time.time()\n",
        "print('Elapsed time: {} seconds'.format((t2 - t1)))"
      ]
    },
    {
      "cell_type": "markdown",
      "source": [
        "Dynamic Programming Algorithm"
      ],
      "metadata": {
        "id": "7u1-2pcklEeu"
      }
    },
    {
      "cell_type": "code",
      "source": [
        "def MatrixChainOrder(p, n):\n",
        "  m = [[0 for x in range(n)] for x in range(n)]\n",
        "  for i in range(1, n):\n",
        "    m[i][i] = 0\n",
        " \n",
        "    # L is chain length.\n",
        "    for L in range(2, n):\n",
        "      for i in range(1, n-L + 1):\n",
        "        j = i + L-1\n",
        "        m[i][j] = sys.maxsize\n",
        "        for k in range(i, j):\n",
        "          q = m[i][k] + m[k + 1][j] + p[i-1]*p[k]*p[j]\n",
        "          if q < m[i][j]:\n",
        "            m[i][j] = q\n",
        "    return m[1][n-1]\n",
        "t1 = time.time()\n",
        "print(\"Minimum number of multiplications is \"+str(MatrixChainOrder(arr, n)))\n",
        "t2 = time.time()\n",
        "print('Elapsed time: {} seconds'.format((t2 - t1)))"
      ],
      "metadata": {
        "colab": {
          "base_uri": "https://localhost:8080/"
        },
        "id": "2lLLKvMclD5a",
        "outputId": "2da1fc75-7236-421a-f319-6bc7ca32c4ef"
      },
      "execution_count": 50,
      "outputs": [
        {
          "output_type": "stream",
          "name": "stdout",
          "text": [
            "Minimum number of multiplications is 4028\n",
            "Elapsed time: 0.003400087356567383 seconds\n"
          ]
        }
      ]
    },
    {
      "cell_type": "code",
      "source": [
        "import matplotlib.pyplot as plt\n",
        "plt.xlabel('n', fontsize=\"10\")\n",
        "plt.ylabel('execution time', fontsize=\"10\")\n",
        "x = [[1,5,10,15,20], [1,5,10,15,20]] # 要連線的兩個點的座標\n",
        "y = [[0.0019502639770507812,0.0061495304107666016,0.009090900421142578,0.9004950523376465,123.72608232498169], [0.0008952617645263672,0.0011565685272216797,0.002343416213989258,0.0020456314086914062,0.01871490478515625]]\n",
        "for i in range(len(x)):\n",
        " plt.plot(x[0] ,y[0],color='b')\n",
        " plt.scatter(x[0], y[0], color='b')\n",
        " plt.plot(x[1] ,y[1],color='r')\n",
        " plt.scatter(x[1], y[1], color='r')\n",
        " #藍色線是 Brute-Force Algorithmv Time Complexity: O(N^3) Space Complexity: O(N^2)\n",
        " #紅色線是 Dynamic Programming Algorithm Time Complexity: O(N) Space Complexity: O(N^2)"
      ],
      "metadata": {
        "colab": {
          "base_uri": "https://localhost:8080/",
          "height": 449
        },
        "id": "pOQmzcyfod3L",
        "outputId": "5e525467-3a4e-41e1-8516-e93a2cb623bf"
      },
      "execution_count": 43,
      "outputs": [
        {
          "output_type": "display_data",
          "data": {
            "text/plain": [
              "<Figure size 640x480 with 1 Axes>"
            ],
            "image/png": "[encoded data removed]"
          },
          "metadata": {}
        }
      ]
    }
  ]
}